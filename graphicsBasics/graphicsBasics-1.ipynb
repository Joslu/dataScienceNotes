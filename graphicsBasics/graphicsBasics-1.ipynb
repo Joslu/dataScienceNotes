{
 "cells": [
  {
   "cell_type": "markdown",
   "metadata": {},
   "source": [
    "# Gráficos básicos\n",
    "\n",
    "Información importante:\n",
    "\n",
    "* Documentación oficial de Altair:\n",
    "* Repositorio de GitHub\n",
    "* La manera de codificar (encoding) datos en Altair\n",
    "* Objetos en altair\n",
    "  *  Ejes o axe\n",
    "  *  Escalas o scales\n",
    "  *  Marcas gráficas o marks\n",
    "* Configuraciones\n",
    "    * de elementos\n",
    "    * de gráfico\n",
    "\n",
    "\n"
   ]
  },
  {
   "cell_type": "code",
   "execution_count": 26,
   "metadata": {},
   "outputs": [],
   "source": [
    "import altair as alt\n",
    "import pandas as pd\n",
    "\n",
    "from vega_datasets import data as vega_data\n",
    "\n",
    "data = vega_data.gapminder()"
   ]
  },
  {
   "cell_type": "code",
   "execution_count": 27,
   "metadata": {},
   "outputs": [
    {
     "data": {
      "text/html": [
       "<div>\n",
       "<style scoped>\n",
       "    .dataframe tbody tr th:only-of-type {\n",
       "        vertical-align: middle;\n",
       "    }\n",
       "\n",
       "    .dataframe tbody tr th {\n",
       "        vertical-align: top;\n",
       "    }\n",
       "\n",
       "    .dataframe thead th {\n",
       "        text-align: right;\n",
       "    }\n",
       "</style>\n",
       "<table border=\"1\" class=\"dataframe\">\n",
       "  <thead>\n",
       "    <tr style=\"text-align: right;\">\n",
       "      <th></th>\n",
       "      <th>year</th>\n",
       "      <th>country</th>\n",
       "      <th>cluster</th>\n",
       "      <th>pop</th>\n",
       "      <th>life_expect</th>\n",
       "      <th>fertility</th>\n",
       "    </tr>\n",
       "  </thead>\n",
       "  <tbody>\n",
       "    <tr>\n",
       "      <th>154</th>\n",
       "      <td>1955</td>\n",
       "      <td>Colombia</td>\n",
       "      <td>3</td>\n",
       "      <td>13588405</td>\n",
       "      <td>55.118</td>\n",
       "      <td>6.7600</td>\n",
       "    </tr>\n",
       "    <tr>\n",
       "      <th>155</th>\n",
       "      <td>1960</td>\n",
       "      <td>Colombia</td>\n",
       "      <td>3</td>\n",
       "      <td>15952727</td>\n",
       "      <td>57.863</td>\n",
       "      <td>6.7600</td>\n",
       "    </tr>\n",
       "    <tr>\n",
       "      <th>156</th>\n",
       "      <td>1965</td>\n",
       "      <td>Colombia</td>\n",
       "      <td>3</td>\n",
       "      <td>18646175</td>\n",
       "      <td>59.963</td>\n",
       "      <td>6.1800</td>\n",
       "    </tr>\n",
       "    <tr>\n",
       "      <th>157</th>\n",
       "      <td>1970</td>\n",
       "      <td>Colombia</td>\n",
       "      <td>3</td>\n",
       "      <td>21429658</td>\n",
       "      <td>61.623</td>\n",
       "      <td>5.0005</td>\n",
       "    </tr>\n",
       "    <tr>\n",
       "      <th>158</th>\n",
       "      <td>1975</td>\n",
       "      <td>Colombia</td>\n",
       "      <td>3</td>\n",
       "      <td>24114177</td>\n",
       "      <td>63.837</td>\n",
       "      <td>4.3385</td>\n",
       "    </tr>\n",
       "  </tbody>\n",
       "</table>\n",
       "</div>"
      ],
      "text/plain": [
       "     year   country  cluster       pop  life_expect  fertility\n",
       "154  1955  Colombia        3  13588405       55.118     6.7600\n",
       "155  1960  Colombia        3  15952727       57.863     6.7600\n",
       "156  1965  Colombia        3  18646175       59.963     6.1800\n",
       "157  1970  Colombia        3  21429658       61.623     5.0005\n",
       "158  1975  Colombia        3  24114177       63.837     4.3385"
      ]
     },
     "execution_count": 27,
     "metadata": {},
     "output_type": "execute_result"
    }
   ],
   "source": [
    "data = data[data['country'] == 'Colombia']\n",
    "data.head()"
   ]
  },
  {
   "cell_type": "markdown",
   "metadata": {},
   "source": [
    "## Barras"
   ]
  },
  {
   "cell_type": "markdown",
   "metadata": {},
   "source": [
    "### Simple Bar Chart\n"
   ]
  },
  {
   "cell_type": "code",
   "execution_count": 28,
   "metadata": {},
   "outputs": [
    {
     "data": {
      "text/html": [
       "\n",
       "<style>\n",
       "  #altair-viz-951ac6781a8d456bb5f3507acbb27e3e.vega-embed {\n",
       "    width: 100%;\n",
       "    display: flex;\n",
       "  }\n",
       "\n",
       "  #altair-viz-951ac6781a8d456bb5f3507acbb27e3e.vega-embed details,\n",
       "  #altair-viz-951ac6781a8d456bb5f3507acbb27e3e.vega-embed details summary {\n",
       "    position: relative;\n",
       "  }\n",
       "</style>\n",
       "<div id=\"altair-viz-951ac6781a8d456bb5f3507acbb27e3e\"></div>\n",
       "<script type=\"text/javascript\">\n",
       "  var VEGA_DEBUG = (typeof VEGA_DEBUG == \"undefined\") ? {} : VEGA_DEBUG;\n",
       "  (function(spec, embedOpt){\n",
       "    let outputDiv = document.currentScript.previousElementSibling;\n",
       "    if (outputDiv.id !== \"altair-viz-951ac6781a8d456bb5f3507acbb27e3e\") {\n",
       "      outputDiv = document.getElementById(\"altair-viz-951ac6781a8d456bb5f3507acbb27e3e\");\n",
       "    }\n",
       "    const paths = {\n",
       "      \"vega\": \"https://cdn.jsdelivr.net/npm/vega@5?noext\",\n",
       "      \"vega-lib\": \"https://cdn.jsdelivr.net/npm/vega-lib?noext\",\n",
       "      \"vega-lite\": \"https://cdn.jsdelivr.net/npm/vega-lite@5.15.1?noext\",\n",
       "      \"vega-embed\": \"https://cdn.jsdelivr.net/npm/vega-embed@6?noext\",\n",
       "    };\n",
       "\n",
       "    function maybeLoadScript(lib, version) {\n",
       "      var key = `${lib.replace(\"-\", \"\")}_version`;\n",
       "      return (VEGA_DEBUG[key] == version) ?\n",
       "        Promise.resolve(paths[lib]) :\n",
       "        new Promise(function(resolve, reject) {\n",
       "          var s = document.createElement('script');\n",
       "          document.getElementsByTagName(\"head\")[0].appendChild(s);\n",
       "          s.async = true;\n",
       "          s.onload = () => {\n",
       "            VEGA_DEBUG[key] = version;\n",
       "            return resolve(paths[lib]);\n",
       "          };\n",
       "          s.onerror = () => reject(`Error loading script: ${paths[lib]}`);\n",
       "          s.src = paths[lib];\n",
       "        });\n",
       "    }\n",
       "\n",
       "    function showError(err) {\n",
       "      outputDiv.innerHTML = `<div class=\"error\" style=\"color:red;\">${err}</div>`;\n",
       "      throw err;\n",
       "    }\n",
       "\n",
       "    function displayChart(vegaEmbed) {\n",
       "      vegaEmbed(outputDiv, spec, embedOpt)\n",
       "        .catch(err => showError(`Javascript Error: ${err.message}<br>This usually means there's a typo in your chart specification. See the javascript console for the full traceback.`));\n",
       "    }\n",
       "\n",
       "    if(typeof define === \"function\" && define.amd) {\n",
       "      requirejs.config({paths});\n",
       "      require([\"vega-embed\"], displayChart, err => showError(`Error loading script: ${err.message}`));\n",
       "    } else {\n",
       "      maybeLoadScript(\"vega\", \"5\")\n",
       "        .then(() => maybeLoadScript(\"vega-lite\", \"5.15.1\"))\n",
       "        .then(() => maybeLoadScript(\"vega-embed\", \"6\"))\n",
       "        .catch(showError)\n",
       "        .then(() => displayChart(vegaEmbed));\n",
       "    }\n",
       "  })({\"config\": {\"view\": {\"continuousWidth\": 300, \"continuousHeight\": 300}}, \"data\": {\"name\": \"data-1d7a4b08d75a8d2e885aed4277f3e5bf\"}, \"mark\": {\"type\": \"bar\"}, \"encoding\": {\"x\": {\"field\": \"year\", \"type\": \"ordinal\"}, \"y\": {\"field\": \"life_expect\", \"type\": \"quantitative\"}}, \"$schema\": \"https://vega.github.io/schema/vega-lite/v5.15.1.json\", \"datasets\": {\"data-1d7a4b08d75a8d2e885aed4277f3e5bf\": [{\"year\": 1955, \"country\": \"Colombia\", \"cluster\": 3, \"pop\": 13588405, \"life_expect\": 55.118, \"fertility\": 6.76}, {\"year\": 1960, \"country\": \"Colombia\", \"cluster\": 3, \"pop\": 15952727, \"life_expect\": 57.863, \"fertility\": 6.76}, {\"year\": 1965, \"country\": \"Colombia\", \"cluster\": 3, \"pop\": 18646175, \"life_expect\": 59.963, \"fertility\": 6.18}, {\"year\": 1970, \"country\": \"Colombia\", \"cluster\": 3, \"pop\": 21429658, \"life_expect\": 61.623, \"fertility\": 5.0005}, {\"year\": 1975, \"country\": \"Colombia\", \"cluster\": 3, \"pop\": 24114177, \"life_expect\": 63.837, \"fertility\": 4.3385}, {\"year\": 1980, \"country\": \"Colombia\", \"cluster\": 3, \"pop\": 26582811, \"life_expect\": 66.653, \"fertility\": 3.685}, {\"year\": 1985, \"country\": \"Colombia\", \"cluster\": 3, \"pop\": 29678395, \"life_expect\": 67.768, \"fertility\": 3.172}, {\"year\": 1990, \"country\": \"Colombia\", \"cluster\": 3, \"pop\": 32858579, \"life_expect\": 68.421, \"fertility\": 2.93005}, {\"year\": 1995, \"country\": \"Colombia\", \"cluster\": 3, \"pop\": 36280883, \"life_expect\": 70.313, \"fertility\": 2.7}, {\"year\": 2000, \"country\": \"Colombia\", \"cluster\": 3, \"pop\": 39685655, \"life_expect\": 71.682, \"fertility\": 2.4705}, {\"year\": 2005, \"country\": \"Colombia\", \"cluster\": 3, \"pop\": 42954279, \"life_expect\": 72.889, \"fertility\": 2.2205}]}}, {\"mode\": \"vega-lite\"});\n",
       "</script>"
      ],
      "text/plain": [
       "alt.Chart(...)"
      ]
     },
     "execution_count": 28,
     "metadata": {},
     "output_type": "execute_result"
    }
   ],
   "source": [
    "alt.Chart(data).mark_bar().encode(\n",
    "    x = 'year:O',\n",
    "    y = 'life_expect'\n",
    ")"
   ]
  },
  {
   "cell_type": "markdown",
   "metadata": {},
   "source": [
    "### Barras +"
   ]
  },
  {
   "cell_type": "code",
   "execution_count": 35,
   "metadata": {},
   "outputs": [
    {
     "data": {
      "text/html": [
       "\n",
       "<style>\n",
       "  #altair-viz-5793294dc3334827a07173290fea4138.vega-embed {\n",
       "    width: 100%;\n",
       "    display: flex;\n",
       "  }\n",
       "\n",
       "  #altair-viz-5793294dc3334827a07173290fea4138.vega-embed details,\n",
       "  #altair-viz-5793294dc3334827a07173290fea4138.vega-embed details summary {\n",
       "    position: relative;\n",
       "  }\n",
       "</style>\n",
       "<div id=\"altair-viz-5793294dc3334827a07173290fea4138\"></div>\n",
       "<script type=\"text/javascript\">\n",
       "  var VEGA_DEBUG = (typeof VEGA_DEBUG == \"undefined\") ? {} : VEGA_DEBUG;\n",
       "  (function(spec, embedOpt){\n",
       "    let outputDiv = document.currentScript.previousElementSibling;\n",
       "    if (outputDiv.id !== \"altair-viz-5793294dc3334827a07173290fea4138\") {\n",
       "      outputDiv = document.getElementById(\"altair-viz-5793294dc3334827a07173290fea4138\");\n",
       "    }\n",
       "    const paths = {\n",
       "      \"vega\": \"https://cdn.jsdelivr.net/npm/vega@5?noext\",\n",
       "      \"vega-lib\": \"https://cdn.jsdelivr.net/npm/vega-lib?noext\",\n",
       "      \"vega-lite\": \"https://cdn.jsdelivr.net/npm/vega-lite@5.15.1?noext\",\n",
       "      \"vega-embed\": \"https://cdn.jsdelivr.net/npm/vega-embed@6?noext\",\n",
       "    };\n",
       "\n",
       "    function maybeLoadScript(lib, version) {\n",
       "      var key = `${lib.replace(\"-\", \"\")}_version`;\n",
       "      return (VEGA_DEBUG[key] == version) ?\n",
       "        Promise.resolve(paths[lib]) :\n",
       "        new Promise(function(resolve, reject) {\n",
       "          var s = document.createElement('script');\n",
       "          document.getElementsByTagName(\"head\")[0].appendChild(s);\n",
       "          s.async = true;\n",
       "          s.onload = () => {\n",
       "            VEGA_DEBUG[key] = version;\n",
       "            return resolve(paths[lib]);\n",
       "          };\n",
       "          s.onerror = () => reject(`Error loading script: ${paths[lib]}`);\n",
       "          s.src = paths[lib];\n",
       "        });\n",
       "    }\n",
       "\n",
       "    function showError(err) {\n",
       "      outputDiv.innerHTML = `<div class=\"error\" style=\"color:red;\">${err}</div>`;\n",
       "      throw err;\n",
       "    }\n",
       "\n",
       "    function displayChart(vegaEmbed) {\n",
       "      vegaEmbed(outputDiv, spec, embedOpt)\n",
       "        .catch(err => showError(`Javascript Error: ${err.message}<br>This usually means there's a typo in your chart specification. See the javascript console for the full traceback.`));\n",
       "    }\n",
       "\n",
       "    if(typeof define === \"function\" && define.amd) {\n",
       "      requirejs.config({paths});\n",
       "      require([\"vega-embed\"], displayChart, err => showError(`Error loading script: ${err.message}`));\n",
       "    } else {\n",
       "      maybeLoadScript(\"vega\", \"5\")\n",
       "        .then(() => maybeLoadScript(\"vega-lite\", \"5.15.1\"))\n",
       "        .then(() => maybeLoadScript(\"vega-embed\", \"6\"))\n",
       "        .catch(showError)\n",
       "        .then(() => displayChart(vegaEmbed));\n",
       "    }\n",
       "  })({\"config\": {\"view\": {\"continuousWidth\": 300, \"continuousHeight\": 300}}, \"data\": {\"name\": \"data-1d7a4b08d75a8d2e885aed4277f3e5bf\"}, \"mark\": {\"type\": \"bar\"}, \"encoding\": {\"x\": {\"axis\": {\"domainColor\": \"red\"}, \"field\": \"year\", \"title\": \"A\\u00f1o\", \"type\": \"ordinal\"}, \"y\": {\"field\": \"life_expect\", \"title\": \"Edad\", \"type\": \"quantitative\"}}, \"title\": \"Esperanza de vida en Colombia\", \"width\": 600, \"$schema\": \"https://vega.github.io/schema/vega-lite/v5.15.1.json\", \"datasets\": {\"data-1d7a4b08d75a8d2e885aed4277f3e5bf\": [{\"year\": 1955, \"country\": \"Colombia\", \"cluster\": 3, \"pop\": 13588405, \"life_expect\": 55.118, \"fertility\": 6.76}, {\"year\": 1960, \"country\": \"Colombia\", \"cluster\": 3, \"pop\": 15952727, \"life_expect\": 57.863, \"fertility\": 6.76}, {\"year\": 1965, \"country\": \"Colombia\", \"cluster\": 3, \"pop\": 18646175, \"life_expect\": 59.963, \"fertility\": 6.18}, {\"year\": 1970, \"country\": \"Colombia\", \"cluster\": 3, \"pop\": 21429658, \"life_expect\": 61.623, \"fertility\": 5.0005}, {\"year\": 1975, \"country\": \"Colombia\", \"cluster\": 3, \"pop\": 24114177, \"life_expect\": 63.837, \"fertility\": 4.3385}, {\"year\": 1980, \"country\": \"Colombia\", \"cluster\": 3, \"pop\": 26582811, \"life_expect\": 66.653, \"fertility\": 3.685}, {\"year\": 1985, \"country\": \"Colombia\", \"cluster\": 3, \"pop\": 29678395, \"life_expect\": 67.768, \"fertility\": 3.172}, {\"year\": 1990, \"country\": \"Colombia\", \"cluster\": 3, \"pop\": 32858579, \"life_expect\": 68.421, \"fertility\": 2.93005}, {\"year\": 1995, \"country\": \"Colombia\", \"cluster\": 3, \"pop\": 36280883, \"life_expect\": 70.313, \"fertility\": 2.7}, {\"year\": 2000, \"country\": \"Colombia\", \"cluster\": 3, \"pop\": 39685655, \"life_expect\": 71.682, \"fertility\": 2.4705}, {\"year\": 2005, \"country\": \"Colombia\", \"cluster\": 3, \"pop\": 42954279, \"life_expect\": 72.889, \"fertility\": 2.2205}]}}, {\"mode\": \"vega-lite\"});\n",
       "</script>"
      ],
      "text/plain": [
       "alt.Chart(...)"
      ]
     },
     "execution_count": 35,
     "metadata": {},
     "output_type": "execute_result"
    }
   ],
   "source": [
    "alt.Chart(data).mark_bar().encode(\n",
    "    x = alt.X('year:O', title='Año', axis=alt.Axis(domainColor='red')),\n",
    "    y = alt.Y('life_expect', title='Edad')\n",
    ").properties(\n",
    "    width = 600,\n",
    "    title = 'Esperanza de vida en Colombia'\n",
    "    )"
   ]
  }
 ],
 "metadata": {
  "kernelspec": {
   "display_name": "Python 3",
   "language": "python",
   "name": "python3"
  },
  "language_info": {
   "codemirror_mode": {
    "name": "ipython",
    "version": 3
   },
   "file_extension": ".py",
   "mimetype": "text/x-python",
   "name": "python",
   "nbconvert_exporter": "python",
   "pygments_lexer": "ipython3",
   "version": "3.10.11"
  },
  "orig_nbformat": 4
 },
 "nbformat": 4,
 "nbformat_minor": 2
}
